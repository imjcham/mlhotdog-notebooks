{
 "cells": [
  {
   "cell_type": "code",
   "execution_count": 296,
   "metadata": {
    "collapsed": true
   },
   "outputs": [],
   "source": [
    "from bs4 import BeautifulSoup\n",
    "import urllib2\n",
    "import pandas as pd\n",
    "import numpy as np"
   ]
  },
  {
   "cell_type": "code",
   "execution_count": 297,
   "metadata": {
    "collapsed": true
   },
   "outputs": [],
   "source": [
    "url = \"http://basketball.realgm.com/player/Stephen-Curry/Summary/1600\"\n",
    "content = urllib2.urlopen(url).read()"
   ]
  },
  {
   "cell_type": "code",
   "execution_count": 412,
   "metadata": {
    "collapsed": false
   },
   "outputs": [],
   "source": [
    "\n",
    "soup = BeautifulSoup(content, \"html5lib\")\n",
    "head = soup.findAll('h2')\n",
    "\n",
    "ncaa_pg_player_headers = []\n",
    "ncaa_adv_player_headers = []\n",
    "ncaa_misc_player_headers = []\n",
    "\n",
    "ncaa_pg_summary_data = []\n",
    "ncaa_adv_summary_data = []\n",
    "ncaa_misc_summary_data = []\n",
    "\n",
    "nba_pg_player_headers = []\n",
    "nba_adv_player_headers = []\n",
    "nba_misc_player_headers = []\n",
    "\n",
    "nba_pg_summary_data = []\n",
    "nba_adv_summary_data = []\n",
    "nba_misc_summary_data = []\n",
    "\n",
    "player_name = url.split('/')[4]\n",
    "player_num = url.split('/')[6]\n",
    "\n",
    "#categories = [\"NCAA Season Stats - Per Game\", \"NCAA Season Stats - Advanced Stats\",\\\n",
    "#             \"NCAA Season Stats - Misc Stats\", \"NBA Regular Season Stats - Misc Stats\",\\\n",
    "#             \"NBA Regular Season Stats - Advanced Stats\", \"NBA Regular Season Stats - Per Game Stats\"]\n",
    "\n",
    "#create header columns\n",
    "for x in head:\n",
    "    #Per Game stats\n",
    "    if x.find(text=\"NCAA Season Stats - Per Game\"):\n",
    "        table = x.find_next_sibling('table')\n",
    "        if not (ncaa_pg_player_headers):\n",
    "            row_head=table.findAll('th')\n",
    "            ncaa_pg_player_headers =[\"Player Name\", \"Player ID\", \"Category\"]\n",
    "            for r in row_head:\n",
    "                ncaa_pg_player_headers.append(r.getText())\n",
    "        row_head=table.findAll('tr')\n",
    "        for r in row_head:\n",
    "            data = [player_name, player_num, \"NCAA\"]\n",
    "            for c in r.findAll('td'):\n",
    "                if c.getText() == \"CAREER\":\n",
    "                    break\n",
    "                data.append(c.getText())\n",
    "            if len(data) > 3:\n",
    "                ncaa_pg_summary_data.append(data)\n",
    "    #Advanced Stats\n",
    "    if x.find(text=\"NCAA Season Stats - Advanced Stats\"):\n",
    "        table = x.find_next_sibling('table')\n",
    "        if not (ncaa_adv_player_headers):\n",
    "            row_head=table.findAll('th')\n",
    "            ncaa_adv_player_headers =[\"Player Name\", \"Player ID\", \"Category\"]\n",
    "            for r in row_head:\n",
    "                ncaa_adv_player_headers.append(r.getText())\n",
    "        row_head=table.findAll('tr')\n",
    "        for r in row_head:\n",
    "            data = [player_name, player_num, \"NCAA\"]\n",
    "            for c in r.findAll('td'):\n",
    "                if c.getText() == \"CAREER\":\n",
    "                    break\n",
    "                data.append(c.getText())\n",
    "            if len(data) > 3:\n",
    "                ncaa_adv_summary_data.append(data)\n",
    "    #Misc Stats\n",
    "    if x.find(text=\"NCAA Season Stats - Misc Stats\"):\n",
    "        table = x.find_next_sibling('table')\n",
    "        if not (ncaa_misc_player_headers):\n",
    "            row_head=table.findAll('th')\n",
    "            ncaa_misc_player_headers =[\"Player Name\", \"Player ID\", \"Category\"]\n",
    "            for r in row_head:\n",
    "                ncaa_misc_player_headers.append(r.getText())\n",
    "        row_head=table.findAll('tr')\n",
    "        for r in row_head:\n",
    "            #print \"in row\"\n",
    "            #print r\n",
    "            if not (r.find('th')):\n",
    "                data = [player_name, player_num, \"NCAA\"]\n",
    "                for c in r.findAll('td'):\n",
    "                    if c.getText() == \"CAREER\":\n",
    "                        break\n",
    "                    #print \"adding data\"\n",
    "                    data.append(c.getText())\n",
    "                if len(data) > 3:\n",
    "                    ncaa_misc_summary_data.append(data)\n",
    "    #NBA Per Game Stats\n",
    "    if x.find(text=\"NBA Regular Season Stats - Per Game\"):\n",
    "        table = x.find_next_sibling('table')\n",
    "        if not (nba_pg_player_headers):\n",
    "            row_head=table.findAll('th')\n",
    "            nba_pg_player_headers =[\"Player Name\", \"Player ID\", \"Category\"]\n",
    "            for r in row_head:\n",
    "                nba_pg_player_headers.append(r.getText())\n",
    "        row_head=table.findAll('tr')\n",
    "        for r in row_head:\n",
    "            #print \"in row\"\n",
    "            #print r\n",
    "            if not (r.find('th')):\n",
    "                data = [player_name, player_num, \"NBA\"]\n",
    "                for c in r.findAll('td'):\n",
    "                    if c.getText() == \"CAREER\":\n",
    "                        break\n",
    "                    #print \"adding data\"\n",
    "                    data.append(c.getText())\n",
    "                if len(data) > 3:\n",
    "                    nba_pg_summary_data.append(data)\n",
    "    #NBA Advanced Stats\n",
    "    if x.find(text=\"NBA Regular Season Stats - Advanced Stats\"):\n",
    "        table = x.find_next_sibling('table')\n",
    "        if not (nba_adv_player_headers):\n",
    "            row_head=table.findAll('th')\n",
    "            nba_adv_player_headers =[\"Player Name\", \"Player ID\", \"Category\"]\n",
    "            for r in row_head:\n",
    "                nba_adv_player_headers.append(r.getText())\n",
    "        row_head=table.findAll('tr')\n",
    "        for r in row_head:\n",
    "            #print \"in row\"\n",
    "            #print r\n",
    "            if not (r.find('th')):\n",
    "                data = [player_name, player_num, \"NBA\"]\n",
    "                for c in r.findAll('td'):\n",
    "                    if c.getText() == \"CAREER\":\n",
    "                        break\n",
    "                    #print \"adding data\"\n",
    "                    data.append(c.getText())\n",
    "                if len(data) > 3:\n",
    "                    nba_adv_summary_data.append(data)\n",
    "    #NBA Misc Stats\n",
    "    if x.find(text=\"NBA Regular Season Stats - Misc Stats\"):\n",
    "        table = x.find_next_sibling('table')\n",
    "        if not (nba_misc_player_headers):\n",
    "            row_head=table.findAll('th')\n",
    "            nba_misc_player_headers =[\"Player Name\", \"Player ID\", \"Category\"]\n",
    "            for r in row_head:\n",
    "                nba_misc_player_headers.append(r.getText())\n",
    "        row_head=table.findAll('tr')\n",
    "        for r in row_head:\n",
    "            #print \"in row\"\n",
    "            #print r\n",
    "            if not (r.find('th')):\n",
    "                data = [player_name, player_num, \"NBA\"]\n",
    "                for c in r.findAll('td'):\n",
    "                    if c.getText() == \"CAREER\":\n",
    "                        break\n",
    "                    #print \"adding data\"\n",
    "                    data.append(c.getText())\n",
    "                if len(data) > 3:\n",
    "                    nba_misc_summary_data.append(data)\n",
    "\n",
    "\n",
    "# or x.find(text=\"NCAA Season Stats - Advanced Stats\") or x.find(text=\"NCAA Season Stats - Per Game\")\n"
   ]
  },
  {
   "cell_type": "code",
   "execution_count": 413,
   "metadata": {
    "collapsed": false
   },
   "outputs": [
    {
     "ename": "NameError",
     "evalue": "name 'nba_pg' is not defined",
     "output_type": "error",
     "traceback": [
      "\u001b[0;31m\u001b[0m",
      "\u001b[0;31mNameError\u001b[0mTraceback (most recent call last)",
      "\u001b[0;32m<ipython-input-413-f021d07c48bf>\u001b[0m in \u001b[0;36m<module>\u001b[0;34m()\u001b[0m\n\u001b[0;32m----> 1\u001b[0;31m \u001b[0;32mprint\u001b[0m \u001b[0mnba_pg\u001b[0m\u001b[0;34m\u001b[0m\u001b[0m\n\u001b[0m",
      "\u001b[0;31mNameError\u001b[0m: name 'nba_pg' is not defined"
     ]
    }
   ],
   "source": [
    "print nba_pg"
   ]
  },
  {
   "cell_type": "code",
   "execution_count": 415,
   "metadata": {
    "collapsed": false
   },
   "outputs": [],
   "source": [
    "df1 = pd.DataFrame(ncaa_adv_summary_data, columns=ncaa_adv_player_headers)\n",
    "df2 = pd.DataFrame(ncaa_pg_summary_data, columns=ncaa_pg_player_headers)\n",
    "df3 = pd.DataFrame(ncaa_misc_summary_data, columns=ncaa_misc_player_headers)\n",
    "df4 = pd.DataFrame(nba_misc_summary_data, columns=nba_misc_player_headers)\n",
    "df5 = pd.DataFrame(nba_adv_summary_data, columns=nba_adv_player_headers)\n",
    "df6 = pd.DataFrame(nba_pg_summary_data, columns=nba_pg_player_headers)\n",
    "\n"
   ]
  },
  {
   "cell_type": "code",
   "execution_count": 443,
   "metadata": {
    "collapsed": false
   },
   "outputs": [],
   "source": [
    "resultNCAA = pd.concat([df1, df2, df3], axis=1)\n",
    "resultNBA = pd.concat([df4, df5, df6], axis=1)\n",
    "resultNBA.to_csv('curry.csv', encoding='utf-8')"
   ]
  },
  {
   "cell_type": "code",
   "execution_count": 444,
   "metadata": {
    "collapsed": false
   },
   "outputs": [
    {
     "name": "stdout",
     "output_type": "stream",
     "text": [
      "Copying file://curry.csv [Content-Type=text/csv]...\n",
      "/ [1 files][  3.3 KiB/  3.3 KiB]                                                \n",
      "Operation completed over 1 objects/3.3 KiB.                                      \n"
     ]
    }
   ],
   "source": [
    "!gsutil cp curry.csv gs://ncaa"
   ]
  },
  {
   "cell_type": "code",
   "execution_count": 441,
   "metadata": {
    "collapsed": false
   },
   "outputs": [
    {
     "data": {
      "text/html": [
       "<div>\n",
       "<table border=\"1\" class=\"dataframe\">\n",
       "  <thead>\n",
       "    <tr style=\"text-align: right;\">\n",
       "      <th></th>\n",
       "      <th>Season</th>\n",
       "      <th>Season</th>\n",
       "      <th>Season</th>\n",
       "      <th>PER</th>\n",
       "      <th>GP</th>\n",
       "      <th>GP</th>\n",
       "      <th>GP</th>\n",
       "    </tr>\n",
       "  </thead>\n",
       "  <tbody>\n",
       "    <tr>\n",
       "      <th>0</th>\n",
       "      <td>2009-10</td>\n",
       "      <td>2009-10</td>\n",
       "      <td>2009-10</td>\n",
       "      <td>16.22</td>\n",
       "      <td>80</td>\n",
       "      <td>80</td>\n",
       "      <td>80</td>\n",
       "    </tr>\n",
       "    <tr>\n",
       "      <th>1</th>\n",
       "      <td>2010-11</td>\n",
       "      <td>2010-11</td>\n",
       "      <td>2010-11</td>\n",
       "      <td>19.57</td>\n",
       "      <td>74</td>\n",
       "      <td>74</td>\n",
       "      <td>74</td>\n",
       "    </tr>\n",
       "    <tr>\n",
       "      <th>2</th>\n",
       "      <td>2011-12</td>\n",
       "      <td>2011-12</td>\n",
       "      <td>2011-12</td>\n",
       "      <td>21.12</td>\n",
       "      <td>26</td>\n",
       "      <td>26</td>\n",
       "      <td>26</td>\n",
       "    </tr>\n",
       "    <tr>\n",
       "      <th>3</th>\n",
       "      <td>2012-13</td>\n",
       "      <td>2012-13</td>\n",
       "      <td>2012-13</td>\n",
       "      <td>21.19</td>\n",
       "      <td>78</td>\n",
       "      <td>78</td>\n",
       "      <td>78</td>\n",
       "    </tr>\n",
       "    <tr>\n",
       "      <th>4</th>\n",
       "      <td>2013-14 ☆</td>\n",
       "      <td>2013-14 ☆</td>\n",
       "      <td>2013-14 ☆</td>\n",
       "      <td>23.77</td>\n",
       "      <td>78</td>\n",
       "      <td>78</td>\n",
       "      <td>78</td>\n",
       "    </tr>\n",
       "    <tr>\n",
       "      <th>5</th>\n",
       "      <td>2014-15 ★</td>\n",
       "      <td>2014-15 ★</td>\n",
       "      <td>2014-15 ★</td>\n",
       "      <td>27.83</td>\n",
       "      <td>80</td>\n",
       "      <td>80</td>\n",
       "      <td>80</td>\n",
       "    </tr>\n",
       "    <tr>\n",
       "      <th>6</th>\n",
       "      <td>2015-16 ★</td>\n",
       "      <td>2015-16 ★</td>\n",
       "      <td>2015-16 ★</td>\n",
       "      <td>31.29</td>\n",
       "      <td>79</td>\n",
       "      <td>79</td>\n",
       "      <td>79</td>\n",
       "    </tr>\n",
       "    <tr>\n",
       "      <th>7</th>\n",
       "      <td>2016-17 ☆</td>\n",
       "      <td>2016-17 ☆</td>\n",
       "      <td>2016-17 ☆</td>\n",
       "      <td>24.69</td>\n",
       "      <td>79</td>\n",
       "      <td>79</td>\n",
       "      <td>79</td>\n",
       "    </tr>\n",
       "  </tbody>\n",
       "</table>\n",
       "</div>"
      ],
      "text/plain": [
       "      Season     Season     Season    PER  GP  GP  GP\n",
       "0    2009-10    2009-10    2009-10  16.22  80  80  80\n",
       "1    2010-11    2010-11    2010-11  19.57  74  74  74\n",
       "2    2011-12    2011-12    2011-12  21.12  26  26  26\n",
       "3    2012-13    2012-13    2012-13  21.19  78  78  78\n",
       "4  2013-14 ☆  2013-14 ☆  2013-14 ☆  23.77  78  78  78\n",
       "5  2014-15 ★  2014-15 ★  2014-15 ★  27.83  80  80  80\n",
       "6  2015-16 ★  2015-16 ★  2015-16 ★  31.29  79  79  79\n",
       "7  2016-17 ☆  2016-17 ☆  2016-17 ☆  24.69  79  79  79"
      ]
     },
     "execution_count": 441,
     "metadata": {},
     "output_type": "execute_result"
    }
   ],
   "source": [
    "#resultNCAA.head(5)\n",
    "list(resultNBA.columns.values)\n",
    "resultNBA[[\"Season\",\"PER\", \"GP\"]]"
   ]
  },
  {
   "cell_type": "markdown",
   "metadata": {
    "collapsed": true
   },
   "source": [
    "##### result.describe()"
   ]
  },
  {
   "cell_type": "code",
   "execution_count": 243,
   "metadata": {
    "collapsed": false
   },
   "outputs": [],
   "source": [
    "content = urllib2.urlopen(url).read()\n",
    "headers = []\n",
    "\n",
    "player_name = url.split('/')[4]\n",
    "player_num = url.split('/')[6]\n",
    "#headers.append(\"player_name, player_num\")"
   ]
  },
  {
   "cell_type": "code",
   "execution_count": 244,
   "metadata": {
    "collapsed": false
   },
   "outputs": [
    {
     "name": "stdout",
     "output_type": "stream",
     "text": [
      "Stephen-Curry 1600\n"
     ]
    }
   ],
   "source": [
    "print player_name, player_num"
   ]
  },
  {
   "cell_type": "code",
   "execution_count": 99,
   "metadata": {
    "collapsed": false
   },
   "outputs": [],
   "source": [
    "        \n"
   ]
  },
  {
   "cell_type": "code",
   "execution_count": 100,
   "metadata": {
    "collapsed": false
   },
   "outputs": [],
   "source": [
    "mydivs = soup.find(\"div\", { \"class\" : \"profile-box\" })"
   ]
  },
  {
   "cell_type": "code",
   "execution_count": null,
   "metadata": {
    "collapsed": true
   },
   "outputs": [],
   "source": []
  },
  {
   "cell_type": "code",
   "execution_count": null,
   "metadata": {
    "collapsed": true
   },
   "outputs": [],
   "source": []
  },
  {
   "cell_type": "code",
   "execution_count": 101,
   "metadata": {
    "collapsed": false
   },
   "outputs": [],
   "source": [
    "for r in mydivs.find_all('strong'):\n",
    "    s = r.next_element.replace(\":\",\"\")\n",
    "    headers.append(s)"
   ]
  },
  {
   "cell_type": "code",
   "execution_count": 102,
   "metadata": {
    "collapsed": false
   },
   "outputs": [
    {
     "name": "stdout",
     "output_type": "stream",
     "text": [
      "['player_name, player_num', u'Current Team', u'Born', u'Birthplace', u'Nationality', u'Height', u'Weight', u'Current NBA Status', u'Draft Entry', u'Drafted', u'Pre-Draft Team', u'High School']\n"
     ]
    }
   ],
   "source": [
    "print headers"
   ]
  },
  {
   "cell_type": "code",
   "execution_count": 78,
   "metadata": {
    "collapsed": false
   },
   "outputs": [
    {
     "name": "stdout",
     "output_type": "stream",
     "text": [
      "N/A\n",
      "Aug 19, 1988\n",
      "Phoenix, Arizona\n",
      "United States\n",
      "6-3(191cm)    \n",
      "UnrestrictedFreeAgent\n",
      "2011 NBA Draft\n",
      "Undrafted\n",
      "Arizona State\n",
      "Desert Vista High School \n"
     ]
    }
   ],
   "source": [
    "for r in mydivs.find_all('p'):\n",
    "    #print r.strong.getText()\n",
    "    d = r.find('strong')\n",
    "    a = r.find('a')\n",
    "    if(a != None):\n",
    "        #print \"if\"\n",
    "        print(a.getText())\n",
    "    else:\n",
    "        #print \"else\"\n",
    "        print d.next_sibling.replace(\" \",\"\")\n",
    "        \n",
    "    "
   ]
  },
  {
   "cell_type": "code",
   "execution_count": 450,
   "metadata": {
    "collapsed": false
   },
   "outputs": [
    {
     "name": "stdout",
     "output_type": "stream",
     "text": [
      "head to break\n"
     ]
    }
   ],
   "source": [
    "headers = ['Player', 'id']\n",
    "head = soup.findAll('h2')\n",
    "y = []\n",
    "\n",
    "#create columns\n",
    "for x in head:\n",
    "    if x.find(text=\"NBA Regular Season Stats - Misc Stats\"):\n",
    "        table = x.find_next_sibling('table')\n",
    "        row_head=table.findAll('th')\n",
    "        for r in row_head:\n",
    "            headers.append(r.getText())\n",
    "df = pd.DataFrame(columns=headers)            \n",
    "\n",
    "#header is 20\n",
    "for x in head:\n",
    "  if x.find(text=\"NBA Regular Season Stats - Misc Stats\"):\n",
    "    table = x.find_next_sibling('table')\n",
    "    rows = table.findAll('tr')\n",
    "    season = []\n",
    "    for r in rows:\n",
    "      data = r.findAll('td')\n",
    "      if(data):\n",
    "          y=[player_name, player_num]\n",
    "          for d in data:\n",
    "            if d.getText() == 'CAREER':\n",
    "              print \"head to break\"\n",
    "              break;\n",
    "            y.append(d.getText())\n",
    "          season.append(y)\n",
    "    \n",
    "        "
   ]
  },
  {
   "cell_type": "code",
   "execution_count": 454,
   "metadata": {
    "collapsed": true
   },
   "outputs": [],
   "source": [
    "df = pd.DataFrame(season, columns=headers)"
   ]
  },
  {
   "cell_type": "code",
   "execution_count": 456,
   "metadata": {
    "collapsed": false
   },
   "outputs": [
    {
     "data": {
      "text/html": [
       "<div>\n",
       "<table border=\"1\" class=\"dataframe\">\n",
       "  <thead>\n",
       "    <tr style=\"text-align: right;\">\n",
       "      <th></th>\n",
       "      <th>Player</th>\n",
       "      <th>id</th>\n",
       "      <th>Season</th>\n",
       "      <th>Team</th>\n",
       "      <th>GP</th>\n",
       "      <th>GS</th>\n",
       "      <th>Dbl Dbl</th>\n",
       "      <th>Tpl Dbl</th>\n",
       "      <th>40 Pts</th>\n",
       "      <th>20 Reb</th>\n",
       "      <th>...</th>\n",
       "      <th>HOB</th>\n",
       "      <th>Ast/TO</th>\n",
       "      <th>Stl/TO</th>\n",
       "      <th>FT/FGA</th>\n",
       "      <th>W's</th>\n",
       "      <th>L's</th>\n",
       "      <th>Win %</th>\n",
       "      <th>OWS</th>\n",
       "      <th>DWS</th>\n",
       "      <th>WS</th>\n",
       "    </tr>\n",
       "  </thead>\n",
       "  <tbody>\n",
       "    <tr>\n",
       "      <th>0</th>\n",
       "      <td>Stephen-Curry</td>\n",
       "      <td>1600</td>\n",
       "      <td>2009-10</td>\n",
       "      <td>GOS</td>\n",
       "      <td>80</td>\n",
       "      <td>77</td>\n",
       "      <td>12</td>\n",
       "      <td>1</td>\n",
       "      <td>1</td>\n",
       "      <td>0</td>\n",
       "      <td>...</td>\n",
       "      <td>.309</td>\n",
       "      <td>1.93</td>\n",
       "      <td>0.62</td>\n",
       "      <td>0.17</td>\n",
       "      <td>25</td>\n",
       "      <td>55</td>\n",
       "      <td>.312</td>\n",
       "      <td>3.02</td>\n",
       "      <td>1.87</td>\n",
       "      <td>4.88</td>\n",
       "    </tr>\n",
       "    <tr>\n",
       "      <th>1</th>\n",
       "      <td>Stephen-Curry</td>\n",
       "      <td>1600</td>\n",
       "      <td>2010-11</td>\n",
       "      <td>GOS</td>\n",
       "      <td>74</td>\n",
       "      <td>74</td>\n",
       "      <td>5</td>\n",
       "      <td>0</td>\n",
       "      <td>0</td>\n",
       "      <td>0</td>\n",
       "      <td>...</td>\n",
       "      <td>.317</td>\n",
       "      <td>1.91</td>\n",
       "      <td>0.48</td>\n",
       "      <td>0.22</td>\n",
       "      <td>33</td>\n",
       "      <td>41</td>\n",
       "      <td>.446</td>\n",
       "      <td>5.39</td>\n",
       "      <td>1.24</td>\n",
       "      <td>6.63</td>\n",
       "    </tr>\n",
       "    <tr>\n",
       "      <th>2</th>\n",
       "      <td>Stephen-Curry</td>\n",
       "      <td>1600</td>\n",
       "      <td>2011-12</td>\n",
       "      <td>GOS</td>\n",
       "      <td>26</td>\n",
       "      <td>23</td>\n",
       "      <td>3</td>\n",
       "      <td>0</td>\n",
       "      <td>0</td>\n",
       "      <td>0</td>\n",
       "      <td>...</td>\n",
       "      <td>.287</td>\n",
       "      <td>2.12</td>\n",
       "      <td>0.60</td>\n",
       "      <td>0.16</td>\n",
       "      <td>13</td>\n",
       "      <td>13</td>\n",
       "      <td>.500</td>\n",
       "      <td>1.84</td>\n",
       "      <td>0.53</td>\n",
       "      <td>2.37</td>\n",
       "    </tr>\n",
       "    <tr>\n",
       "      <th>3</th>\n",
       "      <td>Stephen-Curry</td>\n",
       "      <td>1600</td>\n",
       "      <td>2012-13</td>\n",
       "      <td>GOS</td>\n",
       "      <td>78</td>\n",
       "      <td>78</td>\n",
       "      <td>15</td>\n",
       "      <td>0</td>\n",
       "      <td>2</td>\n",
       "      <td>0</td>\n",
       "      <td>...</td>\n",
       "      <td>.390</td>\n",
       "      <td>2.24</td>\n",
       "      <td>0.53</td>\n",
       "      <td>0.21</td>\n",
       "      <td>45</td>\n",
       "      <td>33</td>\n",
       "      <td>.577</td>\n",
       "      <td>8.52</td>\n",
       "      <td>2.53</td>\n",
       "      <td>11.05</td>\n",
       "    </tr>\n",
       "    <tr>\n",
       "      <th>4</th>\n",
       "      <td>Stephen-Curry</td>\n",
       "      <td>1600</td>\n",
       "      <td>2013-14 ☆</td>\n",
       "      <td>GOS</td>\n",
       "      <td>78</td>\n",
       "      <td>78</td>\n",
       "      <td>28</td>\n",
       "      <td>4</td>\n",
       "      <td>3</td>\n",
       "      <td>0</td>\n",
       "      <td>...</td>\n",
       "      <td>.426</td>\n",
       "      <td>2.27</td>\n",
       "      <td>0.44</td>\n",
       "      <td>0.25</td>\n",
       "      <td>50</td>\n",
       "      <td>28</td>\n",
       "      <td>.641</td>\n",
       "      <td>9.40</td>\n",
       "      <td>3.85</td>\n",
       "      <td>13.25</td>\n",
       "    </tr>\n",
       "    <tr>\n",
       "      <th>5</th>\n",
       "      <td>Stephen-Curry</td>\n",
       "      <td>1600</td>\n",
       "      <td>2014-15 ★</td>\n",
       "      <td>GOS</td>\n",
       "      <td>80</td>\n",
       "      <td>80</td>\n",
       "      <td>23</td>\n",
       "      <td>0</td>\n",
       "      <td>3</td>\n",
       "      <td>0</td>\n",
       "      <td>...</td>\n",
       "      <td>.381</td>\n",
       "      <td>2.49</td>\n",
       "      <td>0.65</td>\n",
       "      <td>0.25</td>\n",
       "      <td>67</td>\n",
       "      <td>13</td>\n",
       "      <td>.838</td>\n",
       "      <td>11.59</td>\n",
       "      <td>4.10</td>\n",
       "      <td>15.69</td>\n",
       "    </tr>\n",
       "    <tr>\n",
       "      <th>6</th>\n",
       "      <td>Stephen-Curry</td>\n",
       "      <td>1600</td>\n",
       "      <td>2015-16 ★</td>\n",
       "      <td>GOS</td>\n",
       "      <td>79</td>\n",
       "      <td>79</td>\n",
       "      <td>15</td>\n",
       "      <td>2</td>\n",
       "      <td>13</td>\n",
       "      <td>0</td>\n",
       "      <td>...</td>\n",
       "      <td>.395</td>\n",
       "      <td>2.01</td>\n",
       "      <td>0.65</td>\n",
       "      <td>0.25</td>\n",
       "      <td>71</td>\n",
       "      <td>8</td>\n",
       "      <td>.899</td>\n",
       "      <td>13.88</td>\n",
       "      <td>3.96</td>\n",
       "      <td>17.84</td>\n",
       "    </tr>\n",
       "    <tr>\n",
       "      <th>7</th>\n",
       "      <td>Stephen-Curry</td>\n",
       "      <td>1600</td>\n",
       "      <td>2016-17 ☆</td>\n",
       "      <td>GOS</td>\n",
       "      <td>79</td>\n",
       "      <td>79</td>\n",
       "      <td>10</td>\n",
       "      <td>0</td>\n",
       "      <td>5</td>\n",
       "      <td>0</td>\n",
       "      <td>...</td>\n",
       "      <td>.351</td>\n",
       "      <td>2.20</td>\n",
       "      <td>0.60</td>\n",
       "      <td>0.25</td>\n",
       "      <td>65</td>\n",
       "      <td>14</td>\n",
       "      <td>.823</td>\n",
       "      <td>8.71</td>\n",
       "      <td>3.78</td>\n",
       "      <td>12.49</td>\n",
       "    </tr>\n",
       "    <tr>\n",
       "      <th>8</th>\n",
       "      <td>Stephen-Curry</td>\n",
       "      <td>1600</td>\n",
       "      <td>None</td>\n",
       "      <td>None</td>\n",
       "      <td>None</td>\n",
       "      <td>None</td>\n",
       "      <td>None</td>\n",
       "      <td>None</td>\n",
       "      <td>None</td>\n",
       "      <td>None</td>\n",
       "      <td>...</td>\n",
       "      <td>None</td>\n",
       "      <td>None</td>\n",
       "      <td>None</td>\n",
       "      <td>None</td>\n",
       "      <td>None</td>\n",
       "      <td>None</td>\n",
       "      <td>None</td>\n",
       "      <td>None</td>\n",
       "      <td>None</td>\n",
       "      <td>None</td>\n",
       "    </tr>\n",
       "  </tbody>\n",
       "</table>\n",
       "<p>9 rows × 22 columns</p>\n",
       "</div>"
      ],
      "text/plain": [
       "          Player    id     Season  Team    GP    GS Dbl Dbl Tpl Dbl 40 Pts  \\\n",
       "0  Stephen-Curry  1600    2009-10   GOS    80    77      12       1      1   \n",
       "1  Stephen-Curry  1600    2010-11   GOS    74    74       5       0      0   \n",
       "2  Stephen-Curry  1600    2011-12   GOS    26    23       3       0      0   \n",
       "3  Stephen-Curry  1600    2012-13   GOS    78    78      15       0      2   \n",
       "4  Stephen-Curry  1600  2013-14 ☆   GOS    78    78      28       4      3   \n",
       "5  Stephen-Curry  1600  2014-15 ★   GOS    80    80      23       0      3   \n",
       "6  Stephen-Curry  1600  2015-16 ★   GOS    79    79      15       2     13   \n",
       "7  Stephen-Curry  1600  2016-17 ☆   GOS    79    79      10       0      5   \n",
       "8  Stephen-Curry  1600       None  None  None  None    None    None   None   \n",
       "\n",
       "  20 Reb  ...     HOB Ast/TO Stl/TO FT/FGA   W's   L's Win %    OWS   DWS  \\\n",
       "0      0  ...    .309   1.93   0.62   0.17    25    55  .312   3.02  1.87   \n",
       "1      0  ...    .317   1.91   0.48   0.22    33    41  .446   5.39  1.24   \n",
       "2      0  ...    .287   2.12   0.60   0.16    13    13  .500   1.84  0.53   \n",
       "3      0  ...    .390   2.24   0.53   0.21    45    33  .577   8.52  2.53   \n",
       "4      0  ...    .426   2.27   0.44   0.25    50    28  .641   9.40  3.85   \n",
       "5      0  ...    .381   2.49   0.65   0.25    67    13  .838  11.59  4.10   \n",
       "6      0  ...    .395   2.01   0.65   0.25    71     8  .899  13.88  3.96   \n",
       "7      0  ...    .351   2.20   0.60   0.25    65    14  .823   8.71  3.78   \n",
       "8   None  ...    None   None   None   None  None  None  None   None  None   \n",
       "\n",
       "      WS  \n",
       "0   4.88  \n",
       "1   6.63  \n",
       "2   2.37  \n",
       "3  11.05  \n",
       "4  13.25  \n",
       "5  15.69  \n",
       "6  17.84  \n",
       "7  12.49  \n",
       "8   None  \n",
       "\n",
       "[9 rows x 22 columns]"
      ]
     },
     "execution_count": 456,
     "metadata": {},
     "output_type": "execute_result"
    }
   ],
   "source": [
    "df.head(10)"
   ]
  },
  {
   "cell_type": "code",
   "execution_count": 420,
   "metadata": {
    "collapsed": false
   },
   "outputs": [
    {
     "data": {
      "text/html": [
       "<div>\n",
       "<table border=\"1\" class=\"dataframe\">\n",
       "  <thead>\n",
       "    <tr style=\"text-align: right;\">\n",
       "      <th></th>\n",
       "      <th>Season</th>\n",
       "      <th>Team</th>\n",
       "      <th>GP</th>\n",
       "      <th>GS</th>\n",
       "      <th>Dbl Dbl</th>\n",
       "      <th>Tpl Dbl</th>\n",
       "      <th>40 Pts</th>\n",
       "      <th>20 Reb</th>\n",
       "      <th>20 Ast</th>\n",
       "      <th>Techs</th>\n",
       "      <th>...</th>\n",
       "      <th>TOV%</th>\n",
       "      <th>STL%</th>\n",
       "      <th>BLK%</th>\n",
       "      <th>USG%</th>\n",
       "      <th>Total S %</th>\n",
       "      <th>PPR</th>\n",
       "      <th>PPS</th>\n",
       "      <th>ORtg</th>\n",
       "      <th>DRtg</th>\n",
       "      <th>PER</th>\n",
       "    </tr>\n",
       "  </thead>\n",
       "  <tbody>\n",
       "  </tbody>\n",
       "</table>\n",
       "<p>0 rows × 40 columns</p>\n",
       "</div>"
      ],
      "text/plain": [
       "Empty DataFrame\n",
       "Columns: [Season, Team, GP, GS, Dbl Dbl, Tpl Dbl, 40 Pts, 20 Reb, 20 Ast, Techs, HOB, Ast/TO, Stl/TO, FT/FGA, W's, L's, Win %, OWS, DWS, WS, Season, Team, GP, GS, TS%, eFG%, ORB%, DRB%, TRB%, AST%, TOV%, STL%, BLK%, USG%, Total S %, PPR, PPS, ORtg, DRtg, PER]\n",
       "Index: []\n",
       "\n",
       "[0 rows x 40 columns]"
      ]
     },
     "execution_count": 420,
     "metadata": {},
     "output_type": "execute_result"
    }
   ],
   "source": [
    "df.head(7)"
   ]
  },
  {
   "cell_type": "code",
   "execution_count": null,
   "metadata": {
    "collapsed": true
   },
   "outputs": [],
   "source": []
  },
  {
   "cell_type": "markdown",
   "metadata": {},
   "source": [
    "##Sample Code\n",
    "out = []\n",
    "foo = soup.findAll(\"th\")\n",
    "for bar in foo:\n",
    "    if bar.find(text\"Age\"):\n",
    "        out.append(bar)"
   ]
  },
  {
   "cell_type": "code",
   "execution_count": null,
   "metadata": {
    "collapsed": true
   },
   "outputs": [],
   "source": [
    "for x in head:\n",
    "  if x.find(text=\"NBA Regular Season Stats - Misc Stats\"):\n",
    "    table = x.find_next_sibling('table')\n",
    "    row_head = table.findAll('th')\n",
    "    \n",
    "    for r in row_head:\n",
    "      headers.append(r.getText())\n",
    "    rows = table.findAll('tr')\n",
    "    for r in rows:\n",
    "      print \"row\"\n",
    "      print y\n",
    "      data = r.findAll('td')\n",
    "      for d in data:\n",
    "        if d.getText() == 'CAREER':\n",
    "          break;\n",
    "        y.append(d.getText())\n",
    "      df.append(y)\n",
    "# elif x.find(text=\"NBA Regular Season Stats - Advanced Stats\"):\n",
    "#  elif x.find(text=\"NBA Regular Season Stats - Per Game\"):  "
   ]
  }
 ],
 "metadata": {
  "kernelspec": {
   "display_name": "Python 2",
   "language": "python",
   "name": "python2"
  },
  "language_info": {
   "codemirror_mode": {
    "name": "ipython",
    "version": 2
   },
   "file_extension": ".py",
   "mimetype": "text/x-python",
   "name": "python",
   "nbconvert_exporter": "python",
   "pygments_lexer": "ipython2",
   "version": "2.7.9"
  }
 },
 "nbformat": 4,
 "nbformat_minor": 2
}
